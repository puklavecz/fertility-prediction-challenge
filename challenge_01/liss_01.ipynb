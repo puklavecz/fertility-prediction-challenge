{
 "cells": [
  {
   "cell_type": "code",
   "execution_count": 1,
   "id": "6570622d-2cc2-4b0b-8660-3d2e74145ce5",
   "metadata": {},
   "outputs": [],
   "source": [
    "import pandas as pd"
   ]
  },
  {
   "cell_type": "code",
   "execution_count": 2,
   "id": "e9493a9f-ded3-4956-a816-faffeef3be50",
   "metadata": {},
   "outputs": [],
   "source": [
    "features = pd.read_csv(\"datasets/liss/LISS_example_input_data.csv\", encoding = 'cp1252', low_memory = False)"
   ]
  },
  {
   "cell_type": "code",
   "execution_count": 4,
   "id": "83fb1f51-0b4a-40f6-89d1-57aba81d73ca",
   "metadata": {},
   "outputs": [],
   "source": [
    "outcome = pd.read_csv(\"datasets/liss/LISS_example_groundtruth_data.csv\", encoding = 'cp1252', low_memory = False)"
   ]
  },
  {
   "cell_type": "code",
   "execution_count": 5,
   "id": "dffa4772-95eb-4e6e-8288-7f951155297e",
   "metadata": {},
   "outputs": [],
   "source": [
    "#features.shape"
   ]
  },
  {
   "cell_type": "code",
   "execution_count": 6,
   "id": "fd10014a-5198-46a4-b05e-e29176c0c360",
   "metadata": {},
   "outputs": [],
   "source": [
    "#outcome.shape"
   ]
  },
  {
   "cell_type": "code",
   "execution_count": 7,
   "id": "902ceb66-3de7-49f4-ac68-e3201d557af7",
   "metadata": {},
   "outputs": [],
   "source": [
    "#outcome.tail()"
   ]
  },
  {
   "cell_type": "code",
   "execution_count": 8,
   "id": "cbadd0f5-a3c5-4f13-95e6-8340e5cbd790",
   "metadata": {},
   "outputs": [],
   "source": [
    "#features.tail()"
   ]
  },
  {
   "cell_type": "code",
   "execution_count": 9,
   "id": "f7749e9b-5d80-4d27-a96d-aa150d0df2dd",
   "metadata": {},
   "outputs": [],
   "source": [
    "#features.describe()"
   ]
  },
  {
   "cell_type": "code",
   "execution_count": 10,
   "id": "2a1d12a6-87b2-43b4-abb4-38948ce3c703",
   "metadata": {},
   "outputs": [],
   "source": [
    "#outcome.describe()"
   ]
  },
  {
   "cell_type": "code",
   "execution_count": 11,
   "id": "95f9bd79-b19f-4f91-bf94-4ddbc8f6274d",
   "metadata": {},
   "outputs": [],
   "source": [
    "#outcome[\"new_child\"].value_counts()"
   ]
  },
  {
   "cell_type": "code",
   "execution_count": 12,
   "id": "34408e17-bd10-4cb6-984d-d54179823ce5",
   "metadata": {},
   "outputs": [],
   "source": [
    "#outcome[\"new_child\"].isna().sum()"
   ]
  },
  {
   "cell_type": "code",
   "execution_count": 67,
   "id": "8aa56fa6-5d50-4aeb-96e7-5756fcd9c24d",
   "metadata": {},
   "outputs": [
    {
     "data": {
      "text/html": [
       "<div>\n",
       "<style scoped>\n",
       "    .dataframe tbody tr th:only-of-type {\n",
       "        vertical-align: middle;\n",
       "    }\n",
       "\n",
       "    .dataframe tbody tr th {\n",
       "        vertical-align: top;\n",
       "    }\n",
       "\n",
       "    .dataframe thead th {\n",
       "        text-align: right;\n",
       "    }\n",
       "</style>\n",
       "<table border=\"1\" class=\"dataframe\">\n",
       "  <thead>\n",
       "    <tr style=\"text-align: right;\">\n",
       "      <th></th>\n",
       "      <th>nomem_encr</th>\n",
       "      <th>brutocat2019</th>\n",
       "      <th>sted2019</th>\n",
       "      <th>woonvorm2019</th>\n",
       "      <th>burgstat2019</th>\n",
       "      <th>aantalki2019</th>\n",
       "    </tr>\n",
       "  </thead>\n",
       "  <tbody>\n",
       "    <tr>\n",
       "      <th>0</th>\n",
       "      <td>800000.0</td>\n",
       "      <td>NaN</td>\n",
       "      <td>NaN</td>\n",
       "      <td>NaN</td>\n",
       "      <td>NaN</td>\n",
       "      <td>NaN</td>\n",
       "    </tr>\n",
       "    <tr>\n",
       "      <th>1</th>\n",
       "      <td>800018.0</td>\n",
       "      <td>NaN</td>\n",
       "      <td>NaN</td>\n",
       "      <td>NaN</td>\n",
       "      <td>NaN</td>\n",
       "      <td>NaN</td>\n",
       "    </tr>\n",
       "    <tr>\n",
       "      <th>2</th>\n",
       "      <td>800021.0</td>\n",
       "      <td>NaN</td>\n",
       "      <td>NaN</td>\n",
       "      <td>NaN</td>\n",
       "      <td>NaN</td>\n",
       "      <td>NaN</td>\n",
       "    </tr>\n",
       "    <tr>\n",
       "      <th>3</th>\n",
       "      <td>800033.0</td>\n",
       "      <td>NaN</td>\n",
       "      <td>NaN</td>\n",
       "      <td>NaN</td>\n",
       "      <td>NaN</td>\n",
       "      <td>NaN</td>\n",
       "    </tr>\n",
       "    <tr>\n",
       "      <th>4</th>\n",
       "      <td>800042.0</td>\n",
       "      <td>EUR 1001 to EUR 1500</td>\n",
       "      <td>Extremely urban</td>\n",
       "      <td>(Un)married co-habitation, with child(ren)</td>\n",
       "      <td>Married</td>\n",
       "      <td>Two children</td>\n",
       "    </tr>\n",
       "    <tr>\n",
       "      <th>...</th>\n",
       "      <td>...</td>\n",
       "      <td>...</td>\n",
       "      <td>...</td>\n",
       "      <td>...</td>\n",
       "      <td>...</td>\n",
       "      <td>...</td>\n",
       "    </tr>\n",
       "    <tr>\n",
       "      <th>9454</th>\n",
       "      <td>899917.0</td>\n",
       "      <td>NaN</td>\n",
       "      <td>NaN</td>\n",
       "      <td>NaN</td>\n",
       "      <td>NaN</td>\n",
       "      <td>NaN</td>\n",
       "    </tr>\n",
       "    <tr>\n",
       "      <th>9455</th>\n",
       "      <td>899935.0</td>\n",
       "      <td>NaN</td>\n",
       "      <td>NaN</td>\n",
       "      <td>NaN</td>\n",
       "      <td>NaN</td>\n",
       "      <td>NaN</td>\n",
       "    </tr>\n",
       "    <tr>\n",
       "      <th>9456</th>\n",
       "      <td>899942.0</td>\n",
       "      <td>NaN</td>\n",
       "      <td>NaN</td>\n",
       "      <td>NaN</td>\n",
       "      <td>NaN</td>\n",
       "      <td>NaN</td>\n",
       "    </tr>\n",
       "    <tr>\n",
       "      <th>9457</th>\n",
       "      <td>899957.0</td>\n",
       "      <td>NaN</td>\n",
       "      <td>Not urban</td>\n",
       "      <td>Single, with child(ren)</td>\n",
       "      <td>Never been married</td>\n",
       "      <td>Two children</td>\n",
       "    </tr>\n",
       "    <tr>\n",
       "      <th>9458</th>\n",
       "      <td>899960.0</td>\n",
       "      <td>EUR 2001 to EUR 2500</td>\n",
       "      <td>Extremely urban</td>\n",
       "      <td>(Un)married co-habitation, without child(ren)</td>\n",
       "      <td>Never been married</td>\n",
       "      <td>NaN</td>\n",
       "    </tr>\n",
       "  </tbody>\n",
       "</table>\n",
       "<p>9459 rows × 6 columns</p>\n",
       "</div>"
      ],
      "text/plain": [
       "      nomem_encr          brutocat2019         sted2019  \\\n",
       "0       800000.0                   NaN              NaN   \n",
       "1       800018.0                   NaN              NaN   \n",
       "2       800021.0                   NaN              NaN   \n",
       "3       800033.0                   NaN              NaN   \n",
       "4       800042.0  EUR 1001 to EUR 1500  Extremely urban   \n",
       "...          ...                   ...              ...   \n",
       "9454    899917.0                   NaN              NaN   \n",
       "9455    899935.0                   NaN              NaN   \n",
       "9456    899942.0                   NaN              NaN   \n",
       "9457    899957.0                   NaN        Not urban   \n",
       "9458    899960.0  EUR 2001 to EUR 2500  Extremely urban   \n",
       "\n",
       "                                       woonvorm2019        burgstat2019  \\\n",
       "0                                               NaN                 NaN   \n",
       "1                                               NaN                 NaN   \n",
       "2                                               NaN                 NaN   \n",
       "3                                               NaN                 NaN   \n",
       "4        (Un)married co-habitation, with child(ren)             Married   \n",
       "...                                             ...                 ...   \n",
       "9454                                            NaN                 NaN   \n",
       "9455                                            NaN                 NaN   \n",
       "9456                                            NaN                 NaN   \n",
       "9457                        Single, with child(ren)  Never been married   \n",
       "9458  (Un)married co-habitation, without child(ren)  Never been married   \n",
       "\n",
       "      aantalki2019  \n",
       "0              NaN  \n",
       "1              NaN  \n",
       "2              NaN  \n",
       "3              NaN  \n",
       "4     Two children  \n",
       "...            ...  \n",
       "9454           NaN  \n",
       "9455           NaN  \n",
       "9456           NaN  \n",
       "9457  Two children  \n",
       "9458           NaN  \n",
       "\n",
       "[9459 rows x 6 columns]"
      ]
     },
     "execution_count": 67,
     "metadata": {},
     "output_type": "execute_result"
    }
   ],
   "source": [
    "feature_selection = [\"nomem_encr\", \"brutocat2019\", \"sted2019\", \"woonvorm2019\", \"burgstat2019\", \"aantalki2019\"]\n",
    "features_final = features[feature_selection]\n",
    "features_final"
   ]
  },
  {
   "cell_type": "code",
   "execution_count": 82,
   "id": "2ca51ba0-68d5-47e2-9c0c-310e4c22513a",
   "metadata": {},
   "outputs": [],
   "source": [
    "merged = pd.merge(features_final, outcome, on = \"nomem_encr\")"
   ]
  },
  {
   "cell_type": "code",
   "execution_count": 83,
   "id": "71301886-b6a7-4968-874a-6439a1f852e5",
   "metadata": {},
   "outputs": [],
   "source": [
    "merged_clean = merged.dropna()"
   ]
  },
  {
   "cell_type": "code",
   "execution_count": 84,
   "id": "55badfb7-b011-4897-a64d-2be3b3eaa424",
   "metadata": {},
   "outputs": [],
   "source": [
    "features_clean = merged_clean.drop(columns = [\"new_child\", \"nomem_encr\"])\n",
    "outcome_clean = merged_clean[\"new_child\"]"
   ]
  },
  {
   "cell_type": "code",
   "execution_count": 85,
   "id": "f9898adf-4e4e-44af-812c-473c55356f41",
   "metadata": {},
   "outputs": [],
   "source": [
    "features_clean_cat = features_clean.select_dtypes(include = object)\n",
    "features_clean_num = features_clean.select_dtypes(exclude = object)"
   ]
  },
  {
   "cell_type": "code",
   "execution_count": 72,
   "id": "31d62611-acc0-4fe8-81c1-161da7427a64",
   "metadata": {},
   "outputs": [],
   "source": [
    "### now do some ML"
   ]
  },
  {
   "cell_type": "code",
   "execution_count": 112,
   "id": "a0dbda58-4fc1-437a-beff-5f61a0ceb2e5",
   "metadata": {},
   "outputs": [],
   "source": [
    "from sklearn.linear_model import LogisticRegression\n",
    "from sklearn.pipeline import make_pipeline\n",
    "from sklearn.preprocessing import StandardScaler\n",
    "from sklearn.preprocessing import OneHotEncoder\n",
    "from sklearn.compose import make_column_selector as selector\n",
    "from sklearn.compose import ColumnTransformer\n",
    "from sklearn.model_selection import cross_validate\n",
    "from sklearn.ensemble import RandomForestClassifier"
   ]
  },
  {
   "cell_type": "code",
   "execution_count": 74,
   "id": "52026b8f-4d0d-49a1-b309-bd453c363a0a",
   "metadata": {},
   "outputs": [],
   "source": [
    "#encoder = OneHotEncoder(handle_unknown = \"ignore\")\n",
    "#scaler = StandardScaler()"
   ]
  },
  {
   "cell_type": "code",
   "execution_count": 79,
   "id": "b7cda69d-be9f-43ba-af6b-ac138621a0ce",
   "metadata": {},
   "outputs": [],
   "source": [
    "#preprocessor = ColumnTransformer(\n",
    "#    [\n",
    "#        (\"one-hot-encoder\", encoder, features_clean_cat),\n",
    "#        (\"standard_scaler\", scaler, features_clean_num)\n",
    "#    ]\n",
    "#)"
   ]
  },
  {
   "cell_type": "code",
   "execution_count": 76,
   "id": "ada43790-b510-4622-9f34-8c5f5550a706",
   "metadata": {},
   "outputs": [],
   "source": [
    "#model = make_pipeline(preprocessor, LogisticRegression(max_iter = 500))"
   ]
  },
  {
   "cell_type": "code",
   "execution_count": 77,
   "id": "0b49b4a4-b6cb-4ddb-8c06-5c0f59233be2",
   "metadata": {},
   "outputs": [],
   "source": [
    "#cross_validate(model, features_clean, outcome_clean, cv = 5)"
   ]
  },
  {
   "cell_type": "code",
   "execution_count": 66,
   "id": "c49f4ca3-f503-4096-b553-41bedc8cef56",
   "metadata": {},
   "outputs": [],
   "source": [
    "#model"
   ]
  },
  {
   "cell_type": "code",
   "execution_count": 123,
   "id": "beecef58-f7ca-4db8-828e-0452183f00ec",
   "metadata": {},
   "outputs": [],
   "source": [
    "model = make_pipeline(OneHotEncoder(handle_unknown = \"ignore\"), LogisticRegression(max_iter = 500))"
   ]
  },
  {
   "cell_type": "code",
   "execution_count": 113,
   "id": "f30505f6-2221-45b8-a282-92d4a429d688",
   "metadata": {},
   "outputs": [],
   "source": [
    "model = make_pipeline(OneHotEncoder(handle_unknown = \"ignore\"), RandomForestClassifier(n_estimators = 1000))"
   ]
  },
  {
   "cell_type": "code",
   "execution_count": 124,
   "id": "21f5f087-2c2c-4f57-8a37-48631803d0c7",
   "metadata": {},
   "outputs": [
    {
     "data": {
      "text/html": [
       "<style>#sk-container-id-10 {color: black;background-color: white;}#sk-container-id-10 pre{padding: 0;}#sk-container-id-10 div.sk-toggleable {background-color: white;}#sk-container-id-10 label.sk-toggleable__label {cursor: pointer;display: block;width: 100%;margin-bottom: 0;padding: 0.3em;box-sizing: border-box;text-align: center;}#sk-container-id-10 label.sk-toggleable__label-arrow:before {content: \"▸\";float: left;margin-right: 0.25em;color: #696969;}#sk-container-id-10 label.sk-toggleable__label-arrow:hover:before {color: black;}#sk-container-id-10 div.sk-estimator:hover label.sk-toggleable__label-arrow:before {color: black;}#sk-container-id-10 div.sk-toggleable__content {max-height: 0;max-width: 0;overflow: hidden;text-align: left;background-color: #f0f8ff;}#sk-container-id-10 div.sk-toggleable__content pre {margin: 0.2em;color: black;border-radius: 0.25em;background-color: #f0f8ff;}#sk-container-id-10 input.sk-toggleable__control:checked~div.sk-toggleable__content {max-height: 200px;max-width: 100%;overflow: auto;}#sk-container-id-10 input.sk-toggleable__control:checked~label.sk-toggleable__label-arrow:before {content: \"▾\";}#sk-container-id-10 div.sk-estimator input.sk-toggleable__control:checked~label.sk-toggleable__label {background-color: #d4ebff;}#sk-container-id-10 div.sk-label input.sk-toggleable__control:checked~label.sk-toggleable__label {background-color: #d4ebff;}#sk-container-id-10 input.sk-hidden--visually {border: 0;clip: rect(1px 1px 1px 1px);clip: rect(1px, 1px, 1px, 1px);height: 1px;margin: -1px;overflow: hidden;padding: 0;position: absolute;width: 1px;}#sk-container-id-10 div.sk-estimator {font-family: monospace;background-color: #f0f8ff;border: 1px dotted black;border-radius: 0.25em;box-sizing: border-box;margin-bottom: 0.5em;}#sk-container-id-10 div.sk-estimator:hover {background-color: #d4ebff;}#sk-container-id-10 div.sk-parallel-item::after {content: \"\";width: 100%;border-bottom: 1px solid gray;flex-grow: 1;}#sk-container-id-10 div.sk-label:hover label.sk-toggleable__label {background-color: #d4ebff;}#sk-container-id-10 div.sk-serial::before {content: \"\";position: absolute;border-left: 1px solid gray;box-sizing: border-box;top: 0;bottom: 0;left: 50%;z-index: 0;}#sk-container-id-10 div.sk-serial {display: flex;flex-direction: column;align-items: center;background-color: white;padding-right: 0.2em;padding-left: 0.2em;position: relative;}#sk-container-id-10 div.sk-item {position: relative;z-index: 1;}#sk-container-id-10 div.sk-parallel {display: flex;align-items: stretch;justify-content: center;background-color: white;position: relative;}#sk-container-id-10 div.sk-item::before, #sk-container-id-10 div.sk-parallel-item::before {content: \"\";position: absolute;border-left: 1px solid gray;box-sizing: border-box;top: 0;bottom: 0;left: 50%;z-index: -1;}#sk-container-id-10 div.sk-parallel-item {display: flex;flex-direction: column;z-index: 1;position: relative;background-color: white;}#sk-container-id-10 div.sk-parallel-item:first-child::after {align-self: flex-end;width: 50%;}#sk-container-id-10 div.sk-parallel-item:last-child::after {align-self: flex-start;width: 50%;}#sk-container-id-10 div.sk-parallel-item:only-child::after {width: 0;}#sk-container-id-10 div.sk-dashed-wrapped {border: 1px dashed gray;margin: 0 0.4em 0.5em 0.4em;box-sizing: border-box;padding-bottom: 0.4em;background-color: white;}#sk-container-id-10 div.sk-label label {font-family: monospace;font-weight: bold;display: inline-block;line-height: 1.2em;}#sk-container-id-10 div.sk-label-container {text-align: center;}#sk-container-id-10 div.sk-container {/* jupyter's `normalize.less` sets `[hidden] { display: none; }` but bootstrap.min.css set `[hidden] { display: none !important; }` so we also need the `!important` here to be able to override the default hidden behavior on the sphinx rendered scikit-learn.org. See: https://github.com/scikit-learn/scikit-learn/issues/21755 */display: inline-block !important;position: relative;}#sk-container-id-10 div.sk-text-repr-fallback {display: none;}</style><div id=\"sk-container-id-10\" class=\"sk-top-container\"><div class=\"sk-text-repr-fallback\"><pre>Pipeline(steps=[(&#x27;onehotencoder&#x27;, OneHotEncoder(handle_unknown=&#x27;ignore&#x27;)),\n",
       "                (&#x27;logisticregression&#x27;, LogisticRegression(max_iter=500))])</pre><b>In a Jupyter environment, please rerun this cell to show the HTML representation or trust the notebook. <br />On GitHub, the HTML representation is unable to render, please try loading this page with nbviewer.org.</b></div><div class=\"sk-container\" hidden><div class=\"sk-item sk-dashed-wrapped\"><div class=\"sk-label-container\"><div class=\"sk-label sk-toggleable\"><input class=\"sk-toggleable__control sk-hidden--visually\" id=\"sk-estimator-id-32\" type=\"checkbox\" ><label for=\"sk-estimator-id-32\" class=\"sk-toggleable__label sk-toggleable__label-arrow\">Pipeline</label><div class=\"sk-toggleable__content\"><pre>Pipeline(steps=[(&#x27;onehotencoder&#x27;, OneHotEncoder(handle_unknown=&#x27;ignore&#x27;)),\n",
       "                (&#x27;logisticregression&#x27;, LogisticRegression(max_iter=500))])</pre></div></div></div><div class=\"sk-serial\"><div class=\"sk-item\"><div class=\"sk-estimator sk-toggleable\"><input class=\"sk-toggleable__control sk-hidden--visually\" id=\"sk-estimator-id-33\" type=\"checkbox\" ><label for=\"sk-estimator-id-33\" class=\"sk-toggleable__label sk-toggleable__label-arrow\">OneHotEncoder</label><div class=\"sk-toggleable__content\"><pre>OneHotEncoder(handle_unknown=&#x27;ignore&#x27;)</pre></div></div></div><div class=\"sk-item\"><div class=\"sk-estimator sk-toggleable\"><input class=\"sk-toggleable__control sk-hidden--visually\" id=\"sk-estimator-id-34\" type=\"checkbox\" ><label for=\"sk-estimator-id-34\" class=\"sk-toggleable__label sk-toggleable__label-arrow\">LogisticRegression</label><div class=\"sk-toggleable__content\"><pre>LogisticRegression(max_iter=500)</pre></div></div></div></div></div></div></div>"
      ],
      "text/plain": [
       "Pipeline(steps=[('onehotencoder', OneHotEncoder(handle_unknown='ignore')),\n",
       "                ('logisticregression', LogisticRegression(max_iter=500))])"
      ]
     },
     "execution_count": 124,
     "metadata": {},
     "output_type": "execute_result"
    }
   ],
   "source": [
    "model"
   ]
  },
  {
   "cell_type": "code",
   "execution_count": 125,
   "id": "4fa44eb6-558b-470a-9799-57eb68b979b2",
   "metadata": {},
   "outputs": [],
   "source": [
    "cv_result = cross_validate(model, features_clean, outcome_clean, cv = 5)"
   ]
  },
  {
   "cell_type": "code",
   "execution_count": 126,
   "id": "2fc2a660-b3b2-4635-80fa-d88145c1691b",
   "metadata": {},
   "outputs": [
    {
     "data": {
      "text/plain": [
       "{'fit_time': array([0.00884438, 0.01373839, 0.01430249, 0.00797844, 0.0089345 ]),\n",
       " 'score_time': array([0.        , 0.        , 0.00199246, 0.00203514, 0.0019958 ]),\n",
       " 'test_score': array([0.84210526, 0.84210526, 0.80701754, 0.8245614 , 0.85964912])}"
      ]
     },
     "execution_count": 126,
     "metadata": {},
     "output_type": "execute_result"
    }
   ],
   "source": [
    "cv_result"
   ]
  },
  {
   "cell_type": "code",
   "execution_count": 127,
   "id": "1e24283e-b6ff-410f-a426-26999aa917c9",
   "metadata": {},
   "outputs": [
    {
     "data": {
      "text/plain": [
       "(0.8350877192982455, 0.01789129653892206)"
      ]
     },
     "execution_count": 127,
     "metadata": {},
     "output_type": "execute_result"
    }
   ],
   "source": [
    "cv_result[\"test_score\"].mean(), cv_result[\"test_score\"].std()"
   ]
  },
  {
   "cell_type": "code",
   "execution_count": null,
   "id": "9f1abe40-25ae-4388-9835-de055a6b3d14",
   "metadata": {},
   "outputs": [],
   "source": []
  }
 ],
 "metadata": {
  "kernelspec": {
   "display_name": "Python 3 (ipykernel)",
   "language": "python",
   "name": "python3"
  },
  "language_info": {
   "codemirror_mode": {
    "name": "ipython",
    "version": 3
   },
   "file_extension": ".py",
   "mimetype": "text/x-python",
   "name": "python",
   "nbconvert_exporter": "python",
   "pygments_lexer": "ipython3",
   "version": "3.11.4"
  }
 },
 "nbformat": 4,
 "nbformat_minor": 5
}
